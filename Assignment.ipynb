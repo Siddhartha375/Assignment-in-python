{
 "cells": [
  {
   "cell_type": "code",
   "execution_count": 15,
   "id": "f1220093-8541-470f-a311-944eb5aa8e5c",
   "metadata": {},
   "outputs": [],
   "source": [
    " # For Loop:\n",
    " #    when we know the actual number of iterate .It is used to iterate through a sequence like list,tuple,string etc."
   ]
  },
  {
   "cell_type": "code",
   "execution_count": 13,
   "id": "c722151f-e779-4558-92d3-96a560b66d49",
   "metadata": {},
   "outputs": [
    {
     "name": "stdout",
     "output_type": "stream",
     "text": [
      "Mangoes\n",
      "Banana\n",
      "Watermalon\n"
     ]
    }
   ],
   "source": [
    "fruits=[\"Mangoes\",\"Banana\",\"Watermalon\"]\n",
    "for i in fruits:\n",
    "    print(i)"
   ]
  },
  {
   "cell_type": "code",
   "execution_count": 16,
   "id": "89291330-f0c7-454b-a243-424e916e82e2",
   "metadata": {},
   "outputs": [],
   "source": [
    "# While Loop: \n",
    "#   When we don't know the actual number of iterate"
   ]
  },
  {
   "cell_type": "code",
   "execution_count": 21,
   "id": "77c9e2e1-cccc-4a9a-83aa-e13e03b89331",
   "metadata": {},
   "outputs": [
    {
     "name": "stdout",
     "output_type": "stream",
     "text": [
      "0\n",
      "1\n",
      "2\n",
      "3\n",
      "4\n",
      "5\n",
      "6\n",
      "7\n",
      "8\n",
      "9\n"
     ]
    }
   ],
   "source": [
    "i=0\n",
    "while i<10:\n",
    "    print(i)\n",
    "    i=i+1"
   ]
  },
  {
   "cell_type": "code",
   "execution_count": 22,
   "id": "2d1e40df-c0bc-40ee-968e-57f7ebd985e5",
   "metadata": {},
   "outputs": [],
   "source": [
    "#Q2: Sum and product of the first 10 natural number"
   ]
  },
  {
   "cell_type": "code",
   "execution_count": 47,
   "id": "9895c8cd-e67e-45eb-9527-0cfe34ff0e5c",
   "metadata": {},
   "outputs": [
    {
     "name": "stdout",
     "output_type": "stream",
     "text": [
      "The sum of first 10 natual no = 55\n",
      "The product of first 10 natural number = 3628800\n"
     ]
    }
   ],
   "source": [
    "n=10\n",
    "sum=0\n",
    "pro=1\n",
    "i=1\n",
    "while i<=n:\n",
    "    sum=sum+i\n",
    "    pro=pro*i\n",
    "    i=i+1\n",
    "print(\"The sum of first 10 natual no =\",sum)\n",
    "print(\"The product of first 10 natural number =\",pro)\n"
   ]
  },
  {
   "cell_type": "code",
   "execution_count": 48,
   "id": "6da66b31-b703-49f8-b26b-949f2bed1995",
   "metadata": {},
   "outputs": [],
   "source": [
    "#Q3: Create a python program to compute the electricity bill for a household.\n",
    "# The per-unit charges in rupees are as follows: For the first 100 units, the user will be charged Rs. 4.5 per\n",
    "# unit, for the next 100 units, the user will be charged Rs. 6 per unit, and for the next 100 units, the user will\n",
    "# be charged Rs. 10 per unit, After 300 units and above the user will be charged Rs. 20 per unit."
   ]
  },
  {
   "cell_type": "code",
   "execution_count": 63,
   "id": "29fc21c0-23cd-4361-af2b-f0658c60b910",
   "metadata": {},
   "outputs": [
    {
     "name": "stdin",
     "output_type": "stream",
     "text": [
      "Enter the unit: 310\n"
     ]
    },
    {
     "name": "stdout",
     "output_type": "stream",
     "text": [
      "Your ammount is: 6200\n"
     ]
    }
   ],
   "source": [
    "unit=int(input(\"Enter the unit:\"))\n",
    "      \n",
    "if (unit<=100):\n",
    "    unit=unit*4.5\n",
    "elif (unit<=200):\n",
    "    unit=unit*6\n",
    "elif (unit<=300):\n",
    "    unit=unit*10\n",
    "else:\n",
    "    unit=unit*20\n",
    "print(\"Your ammount is:\",unit) \n",
    "        \n",
    "         "
   ]
  },
  {
   "cell_type": "code",
   "execution_count": 65,
   "id": "82b4abda-d9ee-421c-aae9-088e50ca5f5f",
   "metadata": {},
   "outputs": [],
   "source": [
    "# Q4. Create a list of numbers from 1 to 100. Use for loop and while loop to calculate the cube of each\n",
    "# number and if the cube of that number is divisible by 4 or 5 then append that number in a list and print\n",
    "# that list."
   ]
  },
  {
   "cell_type": "code",
   "execution_count": null,
   "id": "47b96aba-4734-429b-8f31-b270f6d07ee1",
   "metadata": {},
   "outputs": [],
   "source": []
  },
  {
   "cell_type": "code",
   "execution_count": null,
   "id": "72ea194a-86d1-42a7-9590-819577b858fe",
   "metadata": {},
   "outputs": [],
   "source": []
  },
  {
   "cell_type": "code",
   "execution_count": null,
   "id": "78a5dcca-fedb-4c0d-a81f-33c093ea5418",
   "metadata": {},
   "outputs": [],
   "source": []
  },
  {
   "cell_type": "code",
   "execution_count": null,
   "id": "7dae1dcf-f2a4-4faf-b039-3f33a897e78a",
   "metadata": {},
   "outputs": [],
   "source": []
  },
  {
   "cell_type": "code",
   "execution_count": 66,
   "id": "a71e71ed-97e9-42f3-bc0a-968781683af5",
   "metadata": {},
   "outputs": [],
   "source": [
    "# Q5. Write a program to filter count vowels in the below-given string.\n",
    "# string = \"I want to become a data scientist\""
   ]
  },
  {
   "cell_type": "code",
   "execution_count": 68,
   "id": "1c335819-fa3b-4f9d-b0f9-210aa351e1a3",
   "metadata": {},
   "outputs": [
    {
     "name": "stdout",
     "output_type": "stream",
     "text": [
      "I\n",
      "a\n",
      "o\n",
      "e\n",
      "o\n",
      "e\n",
      "a\n",
      "a\n",
      "a\n",
      "i\n",
      "e\n",
      "i\n"
     ]
    }
   ],
   "source": [
    "for i in 'I want to become a data scientist':\n",
    "    if i.lower() in ['a','e','i','o','u']:\n",
    "        print(i)"
   ]
  },
  {
   "cell_type": "code",
   "execution_count": null,
   "id": "5ac367d5-f780-44c9-9f13-101dbdb5badc",
   "metadata": {},
   "outputs": [],
   "source": []
  }
 ],
 "metadata": {
  "kernelspec": {
   "display_name": "Python 3 (ipykernel)",
   "language": "python",
   "name": "python3"
  },
  "language_info": {
   "codemirror_mode": {
    "name": "ipython",
    "version": 3
   },
   "file_extension": ".py",
   "mimetype": "text/x-python",
   "name": "python",
   "nbconvert_exporter": "python",
   "pygments_lexer": "ipython3",
   "version": "3.10.8"
  }
 },
 "nbformat": 4,
 "nbformat_minor": 5
}
